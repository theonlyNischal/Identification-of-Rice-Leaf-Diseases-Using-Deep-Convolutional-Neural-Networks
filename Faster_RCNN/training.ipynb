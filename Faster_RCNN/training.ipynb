{
 "cells": [
  {
   "cell_type": "code",
   "execution_count": null,
   "metadata": {},
   "outputs": [],
   "source": []
  },
  {
   "cell_type": "code",
   "execution_count": 2,
   "metadata": {},
   "outputs": [],
   "source": [
    "import os\n",
    "import glob\n",
    "import cv2 as cv\n",
    "import numpy as np\n",
    "import pandas as pd\n",
    "import matplotlib.pyplot as plt\n",
    "import xml.etree.ElementTree as ET\n",
    "import argparse\n",
    "\n",
    "import torch\n",
    "import torchvision\n",
    "from torch.utils.data import Dataset\n",
    "from torchvision.models.detection.faster_rcnn import FastRCNNPredictor\n",
    "\n",
    "import utils\n",
    "from engine import train_one_epoch, evaluate\n",
    "import transforms as T"
   ]
  },
  {
   "cell_type": "code",
   "execution_count": 1,
   "metadata": {},
   "outputs": [],
   "source": [
    "imgs_dir = \"../RiceDiseaseDataset/images/\"\n",
    "labels_dir = \"../RiceDiseaseDataset/labels/\""
   ]
  },
  {
   "cell_type": "code",
   "execution_count": 5,
   "metadata": {},
   "outputs": [],
   "source": [
    "class RiceDiseaseDataset(Dataset):\n",
    "    \"\"\"Builds a dataset with image and their labels.\n",
    "    \n",
    "    \n",
    "    \"\"\"\n",
    "    \n",
    "    def __init__(self, imgs_dir, labels_dir, transforms=None):\n",
    "        \"\"\"\n",
    "        \n",
    "        Args:\n",
    "            \n",
    "        \"\"\"\n",
    "        self.imgs_dir = imgs_dir\n",
    "        self.labels_dir = labels_dir\n",
    "        self.imgs = list(sorted(os.listdir(self.imgs_dir)))\n",
    "        self.xml_df = self.xml_to_csv(self.labels_dir)\n",
    "        self.class_names = self.xml_df[\"class\"].unique()\n",
    "        self.labels_dict = self.create_labels_dict(self.xml_df)\n",
    "        self.transforms = transforms\n",
    "        \n",
    "    \n",
    "    def __len__(self):\n",
    "        \"\"\"\n",
    "        \"\"\"\n",
    "        return len(self.imgs)\n",
    "    \n",
    "    def __getitem__(self, idx):\n",
    "        \"\"\"\n",
    "        \"\"\"\n",
    "        img_name = self.imgs[idx]\n",
    "        img_path = os.path.join(self.imgs_dir, img_name)\n",
    "        img = cv.imread(img_path)\n",
    "        img = cv.cvtColor(img, cv.COLOR_BGR2RGB)\n",
    "        \n",
    "        img_df = self.xml_df[self.xml_df[\"filename\"] == img_name]\n",
    "        boxes = img_df[[\"xmin\", \"ymin\", \"xmax\", \"ymax\"]].values\n",
    "        labels = img_df[[\"class\"]].values\n",
    "\n",
    "\n",
    "        # change this\n",
    "        classes = []\n",
    "        for key, value in self.labels_dict.items():\n",
    "            for i in labels:\n",
    "                if i == value:\n",
    "                    classes.append(key)\n",
    "        boxes = torch.as_tensor(boxes, dtype=torch.float32)\n",
    "        labels = torch.tensor(classes, dtype=torch.int64)\n",
    "        image_id = torch.tensor([idx])\n",
    "        area = (boxes[:, 3] - boxes[:, 1]) * (boxes[:, 2] - boxes[:, 0])\n",
    "        iscrowd = torch.tensor(classes, dtype=torch.int64)\n",
    "        target = {}\n",
    "        target[\"boxes\"] = boxes\n",
    "        target[\"labels\"] = labels\n",
    "        target[\"image_id\"] = image_id\n",
    "        target[\"area\"] = area\n",
    "        target[\"iscrowd\"] = iscrowd\n",
    "\n",
    "        if self.transforms is not None:\n",
    "            img, target = self.transforms(img, target)\n",
    "\n",
    "        return img, target\n",
    "\n",
    "    def create_labels_dict(self, xml_df):\n",
    "        labels = self.class_names\n",
    "        labels_dict = {}\n",
    "        for index, label in enumerate(labels):\n",
    "            labels_dict.__setitem__(index, label)\n",
    "            \n",
    "        return labels_dict\n",
    "    \n",
    "    def get_box_class(self, xml_df, img_name):\n",
    "        labels = self.xml_df[self.xml_df[\"filename\"] == img_name]\n",
    "        return labels\n",
    "    \n",
    "    def xml_to_csv(self, path):\n",
    "        # parses xml files and adds results to Pandas DataFrame \n",
    "        xml_list = []\n",
    "        for xml_file in glob.glob(path + '/*.xml'):\n",
    "            tree = ET.parse(xml_file)\n",
    "            root = tree.getroot()\n",
    "            for child in root.findall('object'):\n",
    "                value = (root.find('filename').text,\n",
    "                        int(root.find('size')[0].text),\n",
    "                        int(root.find('size')[1].text),\n",
    "                        child[0].text,\n",
    "                        int(child[4][0].text),\n",
    "                        int(child[4][1].text),\n",
    "                        int(child[4][2].text),\n",
    "                        int(child[4][3].text)\n",
    "                        )\n",
    "                xml_list.append(value)\n",
    "        column_name = ['filename', 'width', 'height', 'class', 'xmin', 'ymin', 'xmax', 'ymax']\n",
    "        xml_df = pd.DataFrame(xml_list, columns=column_name)\n",
    "        xml_df.to_csv(\"../RiceDiseaseDataset/labels.csv\")\n",
    "        return xml_df"
   ]
  },
  {
   "cell_type": "code",
   "execution_count": 6,
   "metadata": {},
   "outputs": [
    {
     "data": {
      "text/plain": [
       "(array([[[154, 148, 150],\n",
       "         [ 93,  88,  92],\n",
       "         [ 71,  69,  71],\n",
       "         ...,\n",
       "         [186, 154, 157],\n",
       "         [185, 153, 156],\n",
       "         [184, 152, 155]],\n",
       " \n",
       "        [[142, 140, 141],\n",
       "         [ 79,  76,  77],\n",
       "         [ 57,  57,  54],\n",
       "         ...,\n",
       "         [187, 155, 158],\n",
       "         [185, 153, 156],\n",
       "         [184, 152, 155]],\n",
       " \n",
       "        [[133, 133, 132],\n",
       "         [ 65,  66,  61],\n",
       "         [ 47,  49,  41],\n",
       "         ...,\n",
       "         [188, 156, 159],\n",
       "         [185, 153, 156],\n",
       "         [184, 152, 155]],\n",
       " \n",
       "        ...,\n",
       " \n",
       "        [[234, 243, 235],\n",
       "         [237, 244, 239],\n",
       "         [241, 248, 243],\n",
       "         ...,\n",
       "         [138, 183,  79],\n",
       "         [137, 182,  75],\n",
       "         [136, 182,  74]],\n",
       " \n",
       "        [[219, 237, 211],\n",
       "         [215, 234, 213],\n",
       "         [220, 237, 220],\n",
       "         ...,\n",
       "         [139, 183,  85],\n",
       "         [139, 184,  82],\n",
       "         [138, 184,  80]],\n",
       " \n",
       "        [[203, 230, 170],\n",
       "         [186, 220, 158],\n",
       "         [188, 219, 171],\n",
       "         ...,\n",
       "         [140, 184,  94],\n",
       "         [139, 184,  85],\n",
       "         [139, 185,  80]]], dtype=uint8),\n",
       " {'boxes': tensor([[ 63., 107., 103., 149.],\n",
       "          [121., 124., 172., 184.]]),\n",
       "  'labels': tensor([1, 1]),\n",
       "  'image_id': tensor([1]),\n",
       "  'area': tensor([1680., 3060.]),\n",
       "  'iscrowd': tensor([1, 1])})"
      ]
     },
     "execution_count": 6,
     "metadata": {},
     "output_type": "execute_result"
    }
   ],
   "source": [
    "x = RiceDiseaseDataset(imgs_dir, labels_dir)\n",
    "x[1]"
   ]
  },
  {
   "cell_type": "code",
   "execution_count": 7,
   "metadata": {},
   "outputs": [
    {
     "data": {
      "text/plain": [
       "{0: 'Bacterial_Blight', 1: 'Rice_Blast', 2: 'Brown_Spot'}"
      ]
     },
     "execution_count": 7,
     "metadata": {},
     "output_type": "execute_result"
    }
   ],
   "source": [
    "x.labels_dict"
   ]
  },
  {
   "cell_type": "code",
   "execution_count": 8,
   "metadata": {},
   "outputs": [],
   "source": [
    "def get_model(num_classes=3):\n",
    "    model = torchvision.models.detection.fasterrcnn_resnet50_fpn(pretrained=True)\n",
    "    in_features = model.roi_heads.box_predictor.cls_score.in_features\n",
    "    model.roi_heads_predictor = FastRCNNPredictor(in_features, num_classes)\n",
    "    return model"
   ]
  },
  {
   "cell_type": "code",
   "execution_count": 9,
   "metadata": {},
   "outputs": [],
   "source": [
    "def get_transforms(train):\n",
    "    transforms = []\n",
    "    transforms.append(T.ToTensor())\n",
    "\n",
    "    if train:\n",
    "        transforms.append(T.RandomHorizontalFlip(0.5))\n",
    "    return T.Compose(transforms)"
   ]
  },
  {
   "cell_type": "code",
   "execution_count": 10,
   "metadata": {},
   "outputs": [
    {
     "ename": "NameError",
     "evalue": "name 'T' is not defined",
     "output_type": "error",
     "traceback": [
      "\u001b[0;31m---------------------------------------------------------------------------\u001b[0m",
      "\u001b[0;31mNameError\u001b[0m                                 Traceback (most recent call last)",
      "\u001b[0;32m<ipython-input-10-acec745ed262>\u001b[0m in \u001b[0;36m<module>\u001b[0;34m\u001b[0m\n\u001b[1;32m      1\u001b[0m \u001b[0mdevice\u001b[0m \u001b[0;34m=\u001b[0m \u001b[0mtorch\u001b[0m\u001b[0;34m.\u001b[0m\u001b[0mdevice\u001b[0m\u001b[0;34m(\u001b[0m\u001b[0;34m\"cuda\"\u001b[0m\u001b[0;34m)\u001b[0m \u001b[0;32mif\u001b[0m \u001b[0mtorch\u001b[0m\u001b[0;34m.\u001b[0m\u001b[0mcuda\u001b[0m\u001b[0;34m.\u001b[0m\u001b[0mis_available\u001b[0m\u001b[0;34m(\u001b[0m\u001b[0;34m)\u001b[0m \u001b[0;32melse\u001b[0m \u001b[0mtorch\u001b[0m\u001b[0;34m.\u001b[0m\u001b[0mdevice\u001b[0m\u001b[0;34m(\u001b[0m\u001b[0;34m\"cpu\"\u001b[0m\u001b[0;34m)\u001b[0m\u001b[0;34m\u001b[0m\u001b[0;34m\u001b[0m\u001b[0m\n\u001b[1;32m      2\u001b[0m \u001b[0;34m\u001b[0m\u001b[0m\n\u001b[0;32m----> 3\u001b[0;31m \u001b[0mdataset\u001b[0m \u001b[0;34m=\u001b[0m \u001b[0mRiceDiseaseDataset\u001b[0m\u001b[0;34m(\u001b[0m\u001b[0mimgs_dir\u001b[0m\u001b[0;34m,\u001b[0m \u001b[0mlabels_dir\u001b[0m\u001b[0;34m,\u001b[0m \u001b[0mtransforms\u001b[0m\u001b[0;34m=\u001b[0m\u001b[0mget_transforms\u001b[0m\u001b[0;34m(\u001b[0m\u001b[0mtrain\u001b[0m\u001b[0;34m=\u001b[0m\u001b[0;32mTrue\u001b[0m\u001b[0;34m)\u001b[0m\u001b[0;34m)\u001b[0m\u001b[0;34m\u001b[0m\u001b[0;34m\u001b[0m\u001b[0m\n\u001b[0m\u001b[1;32m      4\u001b[0m \u001b[0mdataset_test\u001b[0m \u001b[0;34m=\u001b[0m \u001b[0mRiceDiseaseDataset\u001b[0m\u001b[0;34m(\u001b[0m\u001b[0mimgs_dir\u001b[0m\u001b[0;34m,\u001b[0m \u001b[0mlabels_dir\u001b[0m\u001b[0;34m,\u001b[0m \u001b[0mtransforms\u001b[0m\u001b[0;34m=\u001b[0m\u001b[0mget_transforms\u001b[0m\u001b[0;34m(\u001b[0m\u001b[0mtrain\u001b[0m\u001b[0;34m=\u001b[0m\u001b[0;32mFalse\u001b[0m\u001b[0;34m)\u001b[0m\u001b[0;34m)\u001b[0m\u001b[0;34m\u001b[0m\u001b[0;34m\u001b[0m\u001b[0m\n\u001b[1;32m      5\u001b[0m \u001b[0;34m\u001b[0m\u001b[0m\n",
      "\u001b[0;32m<ipython-input-9-4417eaf2969f>\u001b[0m in \u001b[0;36mget_transforms\u001b[0;34m(train)\u001b[0m\n\u001b[1;32m      1\u001b[0m \u001b[0;32mdef\u001b[0m \u001b[0mget_transforms\u001b[0m\u001b[0;34m(\u001b[0m\u001b[0mtrain\u001b[0m\u001b[0;34m)\u001b[0m\u001b[0;34m:\u001b[0m\u001b[0;34m\u001b[0m\u001b[0;34m\u001b[0m\u001b[0m\n\u001b[1;32m      2\u001b[0m     \u001b[0mtransforms\u001b[0m \u001b[0;34m=\u001b[0m \u001b[0;34m[\u001b[0m\u001b[0;34m]\u001b[0m\u001b[0;34m\u001b[0m\u001b[0;34m\u001b[0m\u001b[0m\n\u001b[0;32m----> 3\u001b[0;31m     \u001b[0mtransforms\u001b[0m\u001b[0;34m.\u001b[0m\u001b[0mappend\u001b[0m\u001b[0;34m(\u001b[0m\u001b[0mT\u001b[0m\u001b[0;34m.\u001b[0m\u001b[0mToTensor\u001b[0m\u001b[0;34m(\u001b[0m\u001b[0;34m)\u001b[0m\u001b[0;34m)\u001b[0m\u001b[0;34m\u001b[0m\u001b[0;34m\u001b[0m\u001b[0m\n\u001b[0m\u001b[1;32m      4\u001b[0m \u001b[0;34m\u001b[0m\u001b[0m\n\u001b[1;32m      5\u001b[0m     \u001b[0;32mif\u001b[0m \u001b[0mtrain\u001b[0m\u001b[0;34m:\u001b[0m\u001b[0;34m\u001b[0m\u001b[0;34m\u001b[0m\u001b[0m\n",
      "\u001b[0;31mNameError\u001b[0m: name 'T' is not defined"
     ]
    }
   ],
   "source": [
    "device = torch.device(\"cuda\") if torch.cuda.is_available() else torch.device(\"cpu\")\n",
    "\n",
    "dataset = RiceDiseaseDataset(imgs_dir, labels_dir, transforms=get_transforms(train=True))\n",
    "dataset_test = RiceDiseaseDataset(imgs_dir, labels_dir, transforms=get_transforms(train=False))\n",
    "\n",
    "torch.manual_seed(1)\n",
    "indices = torch.randperm(len(dataset)).tolist()\n",
    "dataset = torch.utils.data.Subset(dataset, indices[:-test_set_length])\n",
    "dataset_test = torch.utils.data.Subset(dataset_test, indices[-test_set_length:])\n",
    "\n",
    "data_loader = torch.utils.data.DataLoader(dataset, batch_size=train_batch_size, \n",
    "                    shuffle=True, num_workers=0, collate_fn=utils.collate_fn)\n",
    "data_loader_test = torch.utils.data.DataLoader(dataset_test, batch_size=test_batch_size,\n",
    "                    shuffle=False, num_workers=0, collate_fn=utils.collate_fn)\n",
    "print(\"Dataset Details\\nImages: {}, Train: {}, Test: {}.\\n\".format(len(indices),\n",
    "                                len(dataset), len(dataset_test)))"
   ]
  },
  {
   "cell_type": "code",
   "execution_count": null,
   "metadata": {},
   "outputs": [],
   "source": []
  }
 ],
 "metadata": {
  "kernelspec": {
   "display_name": "Python 3",
   "language": "python",
   "name": "python3"
  },
  "language_info": {
   "codemirror_mode": {
    "name": "ipython",
    "version": 3
   },
   "file_extension": ".py",
   "mimetype": "text/x-python",
   "name": "python",
   "nbconvert_exporter": "python",
   "pygments_lexer": "ipython3",
   "version": "3.8.2"
  }
 },
 "nbformat": 4,
 "nbformat_minor": 4
}
